{
 "metadata": {
  "name": ""
 },
 "nbformat": 3,
 "nbformat_minor": 0,
 "worksheets": [
  {
   "cells": [
    {
     "cell_type": "markdown",
     "metadata": {},
     "source": [
      "# File I/O\n",
      "\n",
      "**Authors: Tommy Guy, Anthony Scopatz, Will Trimble, Leszek Tarkowski**\n",
      "\n"
     ]
    },
    {
     "cell_type": "markdown",
     "metadata": {},
     "source": [
      "Python has a built-in function called \"open()\" that can be used to\n",
      "manipulate files. The help information for open is below:"
     ]
    },
    {
     "cell_type": "code",
     "collapsed": false,
     "input": [
      "help(open)"
     ],
     "language": "python",
     "metadata": {},
     "outputs": []
    },
    {
     "cell_type": "markdown",
     "metadata": {},
     "source": [
      "A text file with comma-separated values (CSV) is available for your perusal. Let's see what's in the file:"
     ]
    },
    {
     "cell_type": "code",
     "collapsed": false,
     "input": [
      "!cat csv-data.txt"
     ],
     "language": "python",
     "metadata": {},
     "outputs": []
    },
    {
     "cell_type": "markdown",
     "metadata": {},
     "source": [
      "The two parameters we need to worry about when opening a file are the name of the file and the mode. The mode determines whether we can read from or write to\n",
      "the file. \n",
      "\n",
      "Using the Python `open` function returns a file object that acts like a pointer into the file. An example will make this clear.\n",
      "\n",
      "Let's open file `csv-data.txt` in Python:"
     ]
    },
    {
     "cell_type": "code",
     "collapsed": false,
     "input": [
      "reader = open('csv-data.txt', 'r')"
     ],
     "language": "python",
     "metadata": {},
     "outputs": []
    },
    {
     "cell_type": "markdown",
     "metadata": {},
     "source": [
      "Using 'r' for the second input parameter means we want to open the file for reading only. Thus, we will be unable to write any data to the file.\n",
      "\n",
      "We can first verify that we're dealing with a `file` object"
     ]
    },
    {
     "cell_type": "code",
     "collapsed": false,
     "input": [
      "type(reader)"
     ],
     "language": "python",
     "metadata": {},
     "outputs": []
    },
    {
     "cell_type": "markdown",
     "metadata": {},
     "source": [
      "To see what methods are available to a file object:"
     ]
    },
    {
     "cell_type": "code",
     "collapsed": false,
     "input": [
      "dir(reader)"
     ],
     "language": "python",
     "metadata": {},
     "outputs": []
    },
    {
     "cell_type": "markdown",
     "metadata": {},
     "source": [
      "We can input the file one line at a time:"
     ]
    },
    {
     "cell_type": "code",
     "collapsed": false,
     "input": [
      "reader.next()"
     ],
     "language": "python",
     "metadata": {},
     "outputs": []
    },
    {
     "cell_type": "markdown",
     "metadata": {},
     "source": [
      "Repeat the above command until you get a `StopIteration` error.\n",
      "\n",
      "To go back to the beginning of the file, use `seek(0)`. Then use the `readlines` method to append every line of text to a list."
     ]
    },
    {
     "cell_type": "code",
     "collapsed": false,
     "input": [
      "reader.seek(0)\n",
      "data = reader.readlines()\n",
      "data"
     ],
     "language": "python",
     "metadata": {},
     "outputs": []
    },
    {
     "cell_type": "markdown",
     "metadata": {},
     "source": [
      "A very important point about the `readline` method is that it *keeps* the\n",
      "newline character (\\n) at the end of each line. You can use the `strip()`\n",
      "method to get rid of the string, if needed.\n",
      "\n",
      "If we want to drop the header information, and just deal with the data, we can use the `del` function:"
     ]
    },
    {
     "cell_type": "code",
     "collapsed": false,
     "input": [
      "del data[0]\n",
      "data"
     ],
     "language": "python",
     "metadata": {},
     "outputs": []
    },
    {
     "cell_type": "markdown",
     "metadata": {},
     "source": [
      "To separate out the invidual values in each line of text, we use the `split()` method:"
     ]
    },
    {
     "cell_type": "code",
     "collapsed": false,
     "input": [
      "for entry in data:\n",
      "    print entry.split()"
     ],
     "language": "python",
     "metadata": {},
     "outputs": []
    },
    {
     "cell_type": "markdown",
     "metadata": {},
     "source": [
      "When we're done with the file object, we close it:"
     ]
    },
    {
     "cell_type": "code",
     "collapsed": false,
     "input": [
      "reader.close()"
     ],
     "language": "python",
     "metadata": {},
     "outputs": []
    },
    {
     "cell_type": "markdown",
     "metadata": {},
     "source": [
      "With this knowledge, let's write a program that converts the height data in this file from inches to centimeters."
     ]
    },
    {
     "cell_type": "code",
     "collapsed": false,
     "input": [
      "reader = open('csv-data.txt', 'r')\n",
      "data = reader.readlines()\n",
      "reader.close()\n",
      "modified_data = [data[0]]           # copy header into new data list\n",
      "del data[0]  \t\t\t\t\t\t# delete header from old data list\n",
      "for entry in data:\n",
      "    splitlist = entry.split()\n",
      "    if len(splitlist) > 0:          # have to deal with empty final line\n",
      "        [sub, age, gen, hgt] = entry.split(',')\n",
      "        new_hgt = float(hgt)*2.54   # convert height from inches to cm\n",
      "        new_hgt = ' ' + str(new_hgt)# convert height back to a string\n",
      "        newline = ','.join([sub, age, gen, new_hgt])\n",
      "        newline = newline + '\\n'    # add new line at end of each entry\n",
      "        modified_data.append(newline)\n",
      "writer = open('modified-csv-data.txt', 'w')\n",
      "writer.writelines(modified_data)\n",
      "writer.close()"
     ],
     "language": "python",
     "metadata": {},
     "outputs": []
    },
    {
     "cell_type": "code",
     "collapsed": false,
     "input": [
      "!cat csv-data.txt\n",
      "!cat modified-csv-data.txt"
     ],
     "language": "python",
     "metadata": {},
     "outputs": []
    },
    {
     "cell_type": "code",
     "collapsed": false,
     "input": [],
     "language": "python",
     "metadata": {},
     "outputs": []
    },
    {
     "cell_type": "markdown",
     "metadata": {},
     "source": [
      "\n",
      "File handles are also iterable, which means we can use them in for loops\n",
      "or list extensions:"
     ]
    },
    {
     "cell_type": "code",
     "collapsed": false,
     "input": [
      "f = open('csv-data.txt', 'r')\n",
      "lines = [line.strip().split(',') for line in f]\n",
      "f.close()\n",
      "print lines"
     ],
     "language": "python",
     "metadata": {},
     "outputs": []
    },
    {
     "cell_type": "markdown",
     "metadata": {},
     "source": [
      "It's often best to handle a file one line at a time, particularly when the file is so large it might not fit in memory.\n",
      "\n",
      "When writing output to files, there are two primary techniques: writing to the shell and writing to files directly.\n",
      "\n",
      "If your program only creates one stream of output, it's often a good\n",
      "idea to write to the shell using the print function. There are several\n",
      "advantages to this strategy, including the fact that it allows the user\n",
      "to select where they want to store the output without worrying about any\n",
      "command line flags. You can use \"\\>\" to direct the output of your\n",
      "program to a file or use \"|\" to pipe it to another program.\n",
      "\n",
      "Sometimes, you need to direct your output directly to a file handle. For\n",
      "instance, if your program produces two output streams, you may want to\n",
      "assign two open file handles. Opening a file for reading simply requires\n",
      "changing the second option from 'r' to 'w' or 'a'.\n",
      "\n",
      "The mode possibilities are:\n",
      "\n",
      "    `r`   Open text file for reading.  The stream is positioned at the\n",
      "          beginning of the file.\n",
      "\n",
      "    `r+`  Open for reading and writing.  The stream is positioned at the\n",
      "          beginning of the file.\n",
      "\n",
      "    `w`   Truncate file to zero length or create text file for writing.\n",
      "          The stream is positioned at the beginning of the file.\n",
      "\n",
      "    `w+`  Open for reading and writing.  The file is created if it does not\n",
      "          exist, otherwise it is truncated.  The stream is positioned at\n",
      "          the beginning of the file.\n",
      "\n",
      "    `a`   Open for writing.  The file is created if it does not exist.  The\n",
      "          stream is positioned at the end of the file.  Subsequent writes\n",
      "          to the file will always end up at the then current end of file,\n",
      "          irrespective of any intervening fseek(3) or similar.\n",
      "\n",
      "    `a+`  Open for reading and writing.  The file is created if it does not\n",
      "          exist.  The stream is positioned at the end of the file.  Subse-\n",
      "          quent writes to the file will always end up at the then current\n",
      "          end of file, irrespective of any intervening fseek(3) or similar.\n",
      "\n",
      "*Caution!* Opening a file with the 'w' option means start writing *at\n",
      "the beginning*, which may overwrite old material. If you want to append\n",
      "to the file without losing what is already there, open it with 'a'.\n",
      "\n",
      "Writing to a file uses the `write()` command, which accepts a string."
     ]
    },
    {
     "cell_type": "code",
     "collapsed": false,
     "input": [
      "outfile = open('outfile.txt', 'w')\n",
      "outfile.write('This is the first line!')\n",
      "outfile.close()"
     ],
     "language": "python",
     "metadata": {},
     "outputs": []
    },
    {
     "cell_type": "markdown",
     "metadata": {},
     "source": [
      "Another way to write to a file is to use `writelines()`, which accepts a\n",
      "list of strings and writes them in order. *Caution!* The `writelines` method does not append newlines. If you really want to write a newline at the end of\n",
      "each string in the list, add it yourself."
     ]
    },
    {
     "cell_type": "markdown",
     "metadata": {},
     "source": [
      "## Context managers\n",
      "\n",
      "Closing a file is something often neglected in Python due to the fact that\n",
      "it is usually done automatically at the end of a script by Python's garbage collector,\n",
      "a part of the interpreter responsible for closing unused resources.\n",
      "\n",
      "In less trivial scenarios, a file should be closed after using it to prevent\n",
      "data corruption. To ensure this, you can use a special language construct\n",
      "called a context manager, available since Python 2.5.\n",
      "\n",
      "```python\n",
      "   with open('outfile.txt','w') as f:\n",
      "       f.write(\"Message of a Great Importance\")\n",
      "\n",
      "   #other instructions, file is already closed at this point\n",
      "```\n",
      "\n",
      "Also called \"with statements\", context managers are responsible for releasing\n",
      "resources when they are no longer needed.  In this example, the context manager\n",
      "opens a file, creates a file handle variable to the open file named `f`, and after\n",
      "the block of instructions completes, closes the file."
     ]
    },
    {
     "cell_type": "markdown",
     "metadata": {},
     "source": [
      "### Aside About File Editing\n",
      "\n",
      "How do you edit a file in place?  You can use `f.seek()`\n",
      "and `f.tell()` to verify that even if your file handle is pointing to the\n",
      "middle of a file, write commands go to the end of the file in append\n",
      "mode. The best way to change a file is to open a temporary file in\n",
      "/tmp/, fill it, and then move it to overwrite the original. On large\n",
      "clusters, /tmp/ is often local to each node, which means it reduces I/O\n",
      "bottlenecks associated with writing large amounts of data."
     ]
    },
    {
     "cell_type": "markdown",
     "metadata": {},
     "source": [
      "### Exercise\n",
      "\n",
      "Write a Python program that modifies data in `csv-data.txt` such that all the ages are given in months, instead of years. Write results to `more-modified-csv-data.txt`.\n",
      "\n"
     ]
    }
   ],
   "metadata": {}
  }
 ]
}