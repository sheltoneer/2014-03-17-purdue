{
 "metadata": {
  "name": ""
 },
 "nbformat": 3,
 "nbformat_minor": 0,
 "worksheets": [
  {
   "cells": [
    {
     "cell_type": "heading",
     "level": 1,
     "metadata": {},
     "source": [
      "Basic Python: Resizing an Image"
     ]
    },
    {
     "cell_type": "heading",
     "level": 2,
     "metadata": {},
     "source": [
      "Objectives"
     ]
    },
    {
     "cell_type": "markdown",
     "metadata": {},
     "source": [
      "- Import libraries using three forms of `import` and refer to their components using dotted notation.\n",
      "- Call simple functions and methods with numeric and string arguments.\n",
      "- Assign values to variables.\n",
      "- Add comments to programs.\n",
      "- Identify integer and floating-point numbers, and explain the differences between them."
     ]
    },
    {
     "cell_type": "markdown",
     "metadata": {},
     "source": [
      "## Lesson"
     ]
    },
    {
     "cell_type": "markdown",
     "metadata": {},
     "source": [
      "The best way to learn how to program is to start doing something useful,\n",
      "so let's create a thumbnail for an image.\n",
      "We'll start by loading and displaying the original,"
     ]
    },
    {
     "cell_type": "code",
     "collapsed": false,
     "input": [
      "from skimage import novice\n",
      "picture = novice.open('flower.png')\n",
      "picture.show()"
     ],
     "language": "python",
     "metadata": {},
     "outputs": [
      {
       "ename": "ImportError",
       "evalue": "cannot import name novice",
       "output_type": "pyerr",
       "traceback": [
        "\u001b[1;31m---------------------------------------------------------------------------\u001b[0m\n\u001b[1;31mImportError\u001b[0m                               Traceback (most recent call last)",
        "\u001b[1;32m<ipython-input-7-f8a73ece270d>\u001b[0m in \u001b[0;36m<module>\u001b[1;34m()\u001b[0m\n\u001b[1;32m----> 1\u001b[1;33m \u001b[1;32mfrom\u001b[0m \u001b[0mskimage\u001b[0m \u001b[1;32mimport\u001b[0m \u001b[0mnovice\u001b[0m\u001b[1;33m\u001b[0m\u001b[0m\n\u001b[0m\u001b[0;32m      2\u001b[0m \u001b[0mpicture\u001b[0m \u001b[1;33m=\u001b[0m \u001b[0mnovice\u001b[0m\u001b[1;33m.\u001b[0m\u001b[0mopen\u001b[0m\u001b[1;33m(\u001b[0m\u001b[1;34m'flower.png'\u001b[0m\u001b[1;33m)\u001b[0m\u001b[1;33m\u001b[0m\u001b[0m\n\u001b[0;32m      3\u001b[0m \u001b[0mpicture\u001b[0m\u001b[1;33m.\u001b[0m\u001b[0mshow\u001b[0m\u001b[1;33m(\u001b[0m\u001b[1;33m)\u001b[0m\u001b[1;33m\u001b[0m\u001b[0m\n",
        "\u001b[1;31mImportError\u001b[0m: cannot import name novice"
       ]
      }
     ],
     "prompt_number": 7
    },
    {
     "cell_type": "markdown",
     "metadata": {},
     "source": [
      "printing its original size,"
     ]
    },
    {
     "cell_type": "code",
     "collapsed": false,
     "input": [
      "print 'original size:', picture.size"
     ],
     "language": "python",
     "metadata": {},
     "outputs": []
    },
    {
     "cell_type": "markdown",
     "metadata": {},
     "source": [
      "and then redisplaying it at a different size:"
     ]
    },
    {
     "cell_type": "code",
     "collapsed": false,
     "input": [
      "picture.size = (100, 100)\n",
      "picture.show()"
     ],
     "language": "python",
     "metadata": {},
     "outputs": []
    },
    {
     "cell_type": "markdown",
     "metadata": {},
     "source": [
      "If we just want to show the resized picture,\n",
      "we only need four of the six lines of code we just ran:"
     ]
    },
    {
     "cell_type": "code",
     "collapsed": false,
     "input": [
      "from skimage import novice\n",
      "picture = novice.open('flower.png')\n",
      "picture.size = (100, 100)\n",
      "picture.show()"
     ],
     "language": "python",
     "metadata": {},
     "outputs": []
    },
    {
     "cell_type": "markdown",
     "metadata": {},
     "source": [
      "There's a lot going on in those four lines,\n",
      "but once we understand them,\n",
      "and figure out how to avoid making the resized picture look squished,\n",
      "we'll understand about a quarter of what we need to accomplish most routine programming tasks."
     ]
    },
    {
     "cell_type": "heading",
     "level": 2,
     "metadata": {},
     "source": [
      "Importing Libraries"
     ]
    },
    {
     "cell_type": "markdown",
     "metadata": {},
     "source": [
      "The first line of our little program is called an [import statement](glossary.html#import_statement).\n",
      "It tells Python to find a library called `skimage`,\n",
      "look in it for a sub-library called `novice`,\n",
      "and load that into memory so that we can use the things it contains.\n",
      "Most programs start this way,\n",
      "because most of the power of a programming language isn't actually in the language,\n",
      "but in the libraries written for that language.\n",
      "(By analogy,\n",
      "most of the power of a language like English is not in the individual words,\n",
      "but in the books written in it.)"
     ]
    },
    {
     "cell_type": "markdown",
     "metadata": {},
     "source": [
      "Here's a simpler example of importing something:"
     ]
    },
    {
     "cell_type": "code",
     "collapsed": false,
     "input": [
      "import math\n",
      "print 'pi is:', math.pi"
     ],
     "language": "python",
     "metadata": {},
     "outputs": [
      {
       "output_type": "stream",
       "stream": "stdout",
       "text": [
        "pi is: 3.14159265359\n"
       ]
      }
     ],
     "prompt_number": 1
    },
    {
     "cell_type": "markdown",
     "metadata": {},
     "source": [
      "The first line imports the standard math library,\n",
      "which contains things like the value of &pi;.\n",
      "The second line is a [print statement](glossary.html#print_statement):\n",
      "it tells Python to print the [character string](glossary.html#character_string)\n",
      "(or \"string\" for short) `'pi is:'`\n",
      "and the value of &pi;."
     ]
    },
    {
     "cell_type": "markdown",
     "metadata": {},
     "source": [
      "<hr/>\n",
      "### *Printing, Spaces, and Newlines*\n",
      "\n",
      "<em>\n",
      "    `print` automatically puts a single space between the things we ask it to print,\n",
      "    and then starts a new line.\n",
      "    If we just want to print a blank line,\n",
      "    we use `print` on its own.\n",
      "    if we don't want to start a new line,\n",
      "    we put a comma at the end of the list of things we've asked it to print:\n",
      "</em>"
     ]
    },
    {
     "cell_type": "code",
     "collapsed": false,
     "input": [
      "print 'first',  # print the word 'first', but don't start a new line\n",
      "print 'second', # print the word 'second', but don't start a new line\n",
      "print           # just start a new line"
     ],
     "language": "python",
     "metadata": {},
     "outputs": []
    },
    {
     "cell_type": "markdown",
     "metadata": {},
     "source": [
      "<em>\n",
      "    As the example above shows,\n",
      "    we can put [comments](glossary.html#comment) in our programs\n",
      "    to explain what they're doing.\n",
      "    A comment starts with a '#' character and runs to the end of the line;\n",
      "    Python ignores everything in comments when it's executing code.\n",
      "</em>\n",
      "<hr/>"
     ]
    },
    {
     "cell_type": "markdown",
     "metadata": {},
     "source": [
      "Along with useful constants (like &pi;),\n",
      "libraries can contain [functions](glossary.html#function).\n",
      "A function is a piece of code that has been given a name\n",
      "so that we can use it in other programs.\n",
      "The `math` library contains many useful functions,\n",
      "two of which are shown below:"
     ]
    },
    {
     "cell_type": "code",
     "collapsed": false,
     "input": [
      "print 'square root of 5:', math.sqrt(5)"
     ],
     "language": "python",
     "metadata": {},
     "outputs": [
      {
       "output_type": "stream",
       "stream": "stdout",
       "text": [
        "square root of 5: 2.2360679775\n"
       ]
      }
     ],
     "prompt_number": 2
    },
    {
     "cell_type": "code",
     "collapsed": false,
     "input": [
      "print 'cosine of pi/2:', math.cos(math.pi / 2)"
     ],
     "language": "python",
     "metadata": {},
     "outputs": [
      {
       "output_type": "stream",
       "stream": "stdout",
       "text": [
        "cosine of pi/2: 6.12323399574e-17\n"
       ]
      }
     ],
     "prompt_number": 3
    },
    {
     "cell_type": "markdown",
     "metadata": {},
     "source": [
      "Just as we we referred to &pi; as `math.pi`,\n",
      "we refer to the functions in the `math` library using [dotted notation](glossary.html#dotted_notation)\n",
      "as `math.sqrt` (for square root),\n",
      "`math.cos` (for cosine),\n",
      "and so on. If we want to do a little less typing,\n",
      "we can give the library a nickname (or [alias](glossary.html#alias)) as we import it:"
     ]
    },
    {
     "cell_type": "code",
     "collapsed": false,
     "input": [
      "import math as m\n",
      "print 'square root of 7:', m.sqrt(7) # instead of math.sqrt"
     ],
     "language": "python",
     "metadata": {},
     "outputs": [
      {
       "output_type": "stream",
       "stream": "stdout",
       "text": [
        "square root of 7: 2.64575131106\n"
       ]
      }
     ],
     "prompt_number": 4
    },
    {
     "cell_type": "markdown",
     "metadata": {},
     "source": [
      "We can even import the things we want for direct use:"
     ]
    },
    {
     "cell_type": "code",
     "collapsed": false,
     "input": [
      "from math import sqrt\n",
      "print 'square root of 9:', sqrt(9) # doesn't use the dot"
     ],
     "language": "python",
     "metadata": {},
     "outputs": [
      {
       "output_type": "stream",
       "stream": "stdout",
       "text": [
        "square root of 9: 3.0\n"
       ]
      }
     ],
     "prompt_number": 5
    },
    {
     "cell_type": "markdown",
     "metadata": {},
     "source": [
      "<hr/>\n",
      "### *Why Isn't the Cosine of &pi;/2 Zero?*\n",
      "\n",
      "<em>\n",
      "    When we printed the cosine of &pi;/2, we got 6.12323399574e-17 (i.e., roughly 6&times;10<sup>-17</sup>) rather than 0.\n",
      "    The reason is that the computer can't represent the value of &pi; exactly in a finite number of digits,\n",
      "    just as 0.333333333333&hellip; doest't capture 1/3 precisely.\n",
      "    When we take the cosine of this approximation,\n",
      "    we get something that is almost zero, but not quite.\n",
      "    Small errors like this crop up in most scientific calculations;\n",
      "    we'll look later at ways to handle them.\n",
      "</em>\n",
      "<hr/>"
     ]
    },
    {
     "cell_type": "heading",
     "level": 2,
     "metadata": {},
     "source": [
      "Values and Variables"
     ]
    },
    {
     "cell_type": "markdown",
     "metadata": {},
     "source": [
      "The second line of our four-line thumbnail program is:\n",
      "\n",
      "```python\n",
      "picture = novice.open('flower.png')\n",
      "```"
     ]
    },
    {
     "cell_type": "markdown",
     "metadata": {},
     "source": [
      "At this point, `novice.open` should make sense:\n",
      "we have loaded the `novice` sub-library from `skimage`\n",
      "(which, by the way, stands for \"SciKit Imaging Library\"),\n",
      "and we're using its `open` function.\n",
      "Instead of giving that function a number,\n",
      "as we did with `math.sqrt` and `math.cos`,\n",
      "we're giving it the name of the image file that we want to open\n",
      "as a character string.\n",
      "`novice.open` finds this file,\n",
      "copies its contents from disk into memory,\n",
      "and gives us a reference to that chunk of memory.\n",
      "We then store that reference in a [variable](glossary.html#variable)."
     ]
    },
    {
     "cell_type": "code",
     "collapsed": false,
     "input": [
      "\n"
     ],
     "language": "python",
     "metadata": {},
     "outputs": [
      {
       "output_type": "stream",
       "stream": "stdout",
       "text": [
        "Object `novice.open` not found.\n"
       ]
      }
     ],
     "prompt_number": 6
    },
    {
     "cell_type": "markdown",
     "metadata": {},
     "source": [
      "A variable is just a name for a value&mdash;something we can use\n",
      "to refer to that value later in the program.\n",
      "Python creates a variable whenever we assign a value to a name using `=`,\n",
      "and we can use the variable's value after that\n",
      "just by using the variable name:"
     ]
    },
    {
     "cell_type": "code",
     "collapsed": false,
     "input": [
      "mass = 90\n",
      "age = 50\n",
      "name = 'Subject #1'\n",
      "print name, ':', age, '/', mass"
     ],
     "language": "python",
     "metadata": {},
     "outputs": []
    },
    {
     "cell_type": "markdown",
     "metadata": {},
     "source": [
      "To change a variable's value,\n",
      "we just assign it a new one:"
     ]
    },
    {
     "cell_type": "code",
     "collapsed": false,
     "input": [
      "age = 45 # correcting subject age\n",
      "print name, ':', age, '/', mass"
     ],
     "language": "python",
     "metadata": {},
     "outputs": []
    },
    {
     "cell_type": "markdown",
     "metadata": {},
     "source": [
      "New values can be calculated from old:"
     ]
    },
    {
     "cell_type": "code",
     "collapsed": false,
     "input": [
      "mass_pounds = mass * 2.2\n",
      "print 'mass in pounds:', mass_pounds"
     ],
     "language": "python",
     "metadata": {},
     "outputs": []
    },
    {
     "cell_type": "markdown",
     "metadata": {},
     "source": [
      "We can even calculate a new value based on an old one.\n",
      "In this case,\n",
      "Python reads the values of everything on the right side of the assignment\n",
      "before changing the variable on the left:"
     ]
    },
    {
     "cell_type": "code",
     "collapsed": false,
     "input": [
      "mass = mass * 2.2 # converting mass to pounds in place\n",
      "print name, ':', age, '/', mass"
     ],
     "language": "python",
     "metadata": {},
     "outputs": []
    },
    {
     "cell_type": "markdown",
     "metadata": {},
     "source": [
      "And of course,\n",
      "we can use one variable to calculate a value for another:"
     ]
    },
    {
     "cell_type": "code",
     "collapsed": false,
     "input": [
      "ratio = mass / age\n",
      "print 'pounds per year:', ratio"
     ],
     "language": "python",
     "metadata": {},
     "outputs": []
    },
    {
     "cell_type": "markdown",
     "metadata": {},
     "source": [
      "What we *can't* do is use a variable that we haven't assigned a value.\n",
      "For example,\n",
      "suppose we try to print `mas` with one 's' instead of `mass`:"
     ]
    },
    {
     "cell_type": "code",
     "collapsed": false,
     "input": [
      "print 'Subject mass:', mas # only one 's'"
     ],
     "language": "python",
     "metadata": {},
     "outputs": []
    },
    {
     "cell_type": "markdown",
     "metadata": {},
     "source": [
      "Other languages,\n",
      "such as Perl,\n",
      "do let programmers use variables they haven't defined,\n",
      "and automatically give those variables default values like zero.\n",
      "This occasionally saves a bit of typing,\n",
      "but it can also cause hard-to-find errors,\n",
      "since human eyes can all-too-easily mis-read `mas` as `mass`\n",
      "or `temperatrue` as `temperature`."
     ]
    },
    {
     "cell_type": "markdown",
     "metadata": {},
     "source": [
      "<hr/>\n",
      "\n",
      "### *Arithmetic*\n",
      "\n",
      "<em>\n",
      "The table below shows some commonly-used [arithmetic operators](glossary.html#arithmetic_operator) in Python.\n",
      "<table>\n",
      "<tr><th>Operation</th><th>Symbol</th><th>Example</th><th>Result</th></tr>\n",
      "<tr><td>Addition</td><td>+</td><td>2+3</td><td>5</td></tr>\n",
      "<tr><td>Subtraction</td><td>-</td><td>2-3</td><td>-1</td></tr>\n",
      "<tr><td>Multiplication</td><td>*</td><td>2*3</td><td>6</td></tr>\n",
      "<tr><td>Division</td><td>/</td><td>2/3</td><td>0</td></tr>\n",
      "<tr><td></td><td></td><td>2.0/3</td><td>0.66666666666</td></tr>\n",
      "<tr><td>Remainder</td><td>%</td><td>15%6</td><td>3</td></tr>\n",
      "<tr><td>Exponentiation</td><td>**</td><td>2**3</td><td>8</td></tr>\n",
      "</table>\n",
      "</em>\n",
      "<hr/>"
     ]
    },
    {
     "cell_type": "heading",
     "level": 2,
     "metadata": {},
     "source": [
      "Resizing and Displaying"
     ]
    },
    {
     "cell_type": "markdown",
     "metadata": {},
     "source": [
      "Now that we know what variables and assignment are,\n",
      "we can also understand the rest of our program:\n",
      "\n",
      "```python\n",
      "picture.size = (100, 100)\n",
      "picture.show()\n",
      "```"
     ]
    },
    {
     "cell_type": "markdown",
     "metadata": {},
     "source": [
      "The first of these lines (line 3 of the original program)\n",
      "assigns `(100, 100)` to `picture.size`.\n",
      "The pair of values in parentheses is called a [tuple](glossary.html#tuple);\n",
      "like a coordinate pair in mathematics,\n",
      "it's a single thing with two parts.\n",
      "And as `picture.size`'s name suggests,\n",
      "it is the size of our picture.\n",
      "When we assign it a new value,\n",
      "the `skimage.novice` library changes the size of the picture as requested."
     ]
    },
    {
     "cell_type": "markdown",
     "metadata": {},
     "source": [
      "Finally,\n",
      "the statement `picture.show()` called a [method](glossary.html#method) of the picture which,\n",
      "as *its* name suggests,\n",
      "displays the picture.\n",
      "A method is just a function that's part of a particular value,\n",
      "just as `math.sqrt` is a function that's part of the `math` library.\n",
      "If we had several pictures in memory,\n",
      "each one would have a `show` method that would do the same thing,\n",
      "but display that particular picture."
     ]
    },
    {
     "cell_type": "heading",
     "level": 2,
     "metadata": {},
     "source": [
      "Unsquishing the Picture"
     ]
    },
    {
     "cell_type": "markdown",
     "metadata": {},
     "source": [
      "Right now,\n",
      "our little program always creates a 100&times;100 thumbnail,\n",
      "even when the original image wasn't square.\n",
      "Suppose we want to create thumbnails that are always 100 pixels wide,\n",
      "but keep the [aspect ratio](glossary.html#aspect_ratio) of the original.\n",
      "If the original was 200&times;300,\n",
      "for example,\n",
      "our thumbnail would be 100&times;150,\n",
      "while a 300&times;200 image would be turned into a thumbnail\n",
      "that was 100 pixels wide and 66&frac23; pixels high.\n",
      "\n",
      "That &frac23; is our first problem.\n",
      "There's no such things as a fraction of a pixel,\n",
      "so we have to decide whether we want to round off to the nearest whole number,\n",
      "or throw away the fractional part (which in this case means rounding down).\n",
      "The former seems more sensible,\n",
      "and Python has a built-in function called `round` to round things off,\n",
      "so we'll do that.\n",
      "Here's a quick test:"
     ]
    },
    {
     "cell_type": "code",
     "collapsed": false,
     "input": [
      "print 'rounding off 2/3 should give 1:', round(2/3)"
     ],
     "language": "python",
     "metadata": {},
     "outputs": []
    },
    {
     "cell_type": "markdown",
     "metadata": {},
     "source": [
      "Whoops: why is the result 0?\n",
      "And why is the result printed as 0.0 rather than 0?\n",
      "\n",
      "The answer to both questions is that computers can store numbers\n",
      "as [integers](glossary.html#integer)\n",
      "or [floating point numbers](glossary.html#floating_point_number)\n",
      "(usually just called \"floats\").\n",
      "Integers are the familiar values 1, 2, 3, 97, -6, and so on;\n",
      "floats have fractional parts,\n",
      "like 2.5 or -7.172483921748.\n",
      "In many cases,\n",
      "the difference isn't important&mdash;2&times;3 and 2.0&times;3.0 give the same answer:"
     ]
    },
    {
     "cell_type": "code",
     "collapsed": false,
     "input": [
      "print 'using integers:', 2*3\n",
      "print 'using floats:', 2.0*3.0"
     ],
     "language": "python",
     "metadata": {},
     "outputs": []
    },
    {
     "cell_type": "markdown",
     "metadata": {},
     "source": [
      "However,\n",
      "if we divide one integer by another,\n",
      "Python only keeps the integer portion of the result,\n",
      "so 5/2 is 2 rather than 2.5,\n",
      "and 2/5 is 0 rather than 0.4:"
     ]
    },
    {
     "cell_type": "code",
     "collapsed": false,
     "input": [
      "print '5/2:', 5/2\n",
      "print '2/5:', 2/5"
     ],
     "language": "python",
     "metadata": {},
     "outputs": []
    },
    {
     "cell_type": "markdown",
     "metadata": {},
     "source": [
      "If either [argument](glossary.html#argument) of the division is a float,\n",
      "on the other hand,\n",
      "Python keeps the fraction when doing the calculation:"
     ]
    },
    {
     "cell_type": "code",
     "collapsed": false,
     "input": [
      "print '5.0/2:', 5.0/2\n",
      "print '2/5.0:', 2/5.0"
     ],
     "language": "python",
     "metadata": {},
     "outputs": []
    },
    {
     "cell_type": "markdown",
     "metadata": {},
     "source": [
      "This is why `round(2/3)` produced 0.0:\n",
      "2/3 is the integer 0,\n",
      "which `round` turned into the float 0.0.\n",
      "To get the answer we expected,\n",
      "we can either use constant values:"
     ]
    },
    {
     "cell_type": "code",
     "collapsed": false,
     "input": [
      "print 'nearest whole number to 2/3:', round(2.0/3.0)"
     ],
     "language": "python",
     "metadata": {},
     "outputs": []
    },
    {
     "cell_type": "markdown",
     "metadata": {},
     "source": [
      "or use another built-in function called `float`\n",
      "to turn one or the other argument of the division into a float:"
     ]
    },
    {
     "cell_type": "code",
     "collapsed": false,
     "input": [
      "print 'nearest whole number to 2/3:', round(float(2)/3)"
     ],
     "language": "python",
     "metadata": {},
     "outputs": []
    },
    {
     "cell_type": "markdown",
     "metadata": {},
     "source": [
      "There is another built-in function,\n",
      "`int`,\n",
      "which turns floats into integers,\n",
      "but unlike `round`,\n",
      "it truncates (just like division):"
     ]
    },
    {
     "cell_type": "code",
     "collapsed": false,
     "input": [
      "print 'int(0.66666666):', int(0.66666666)"
     ],
     "language": "python",
     "metadata": {},
     "outputs": []
    },
    {
     "cell_type": "markdown",
     "metadata": {},
     "source": [
      "<hr/>\n",
      "### *Why Two Kinds of Numbers?*\n",
      "\n",
      "<em>\n",
      "    There are two reasons why computers have two ways to represent numbers.\n",
      "    The first is historical:\n",
      "    for several decades,\n",
      "    operations on integers were faster than operations on floats,\n",
      "    so it made sense to let programmers use whichever they wanted.\n",
      "    The other reason is that they really are different:\n",
      "    integers are for counting things,\n",
      "    while floats are for measuring quantitites.\n",
      "</em>\n",
      "<hr/>"
     ]
    },
    {
     "cell_type": "markdown",
     "metadata": {},
     "source": [
      "We now have the tools we need to create proportional thumbnails.\n",
      "Once again,\n",
      "we'll start by loading and displaying:"
     ]
    },
    {
     "cell_type": "code",
     "collapsed": false,
     "input": [
      "flower = novice.open('flower.png')\n",
      "flower.show()"
     ],
     "language": "python",
     "metadata": {},
     "outputs": []
    },
    {
     "cell_type": "markdown",
     "metadata": {},
     "source": [
      "Notice that we didn't import the `novice` library again.\n",
      "Once it has been loaded into memory,\n",
      "it is there until we end our session\n",
      "(e.g., close our IPython Notebook or exit from the command-line interpreter).\n",
      "Notice also that we called our variable `flower` instead of `picture`.\n",
      "We could call the variable anything from `a` to `zzzzzzzzzzzzzzzzzzzz`&mdash;the\n",
      "computer doesn't care,\n",
      "and doesn't infer what kind of data a variable refers to from its name&mdash;but\n",
      "using names like `picture` and `flower` makes it easier for people to understand what we're doing."
     ]
    },
    {
     "cell_type": "markdown",
     "metadata": {},
     "source": [
      "Next,\n",
      "let's find out how wide and high our image is:"
     ]
    },
    {
     "cell_type": "code",
     "collapsed": false,
     "input": [
      "print 'flower.width:', flower.width\n",
      "print 'flower.height:', flower.height"
     ],
     "language": "python",
     "metadata": {},
     "outputs": []
    },
    {
     "cell_type": "markdown",
     "metadata": {},
     "source": [
      "If the thumbnail is going to be 100 pixels wide,\n",
      "we need to shrink the picture by a factor of 100/240.\n",
      "We need to use floats for that calculation,\n",
      "though,\n",
      "so we'll write it as 100.0/240.\n",
      "To keep the picture's height proportional,\n",
      "we need to shrink it by the same ratio,\n",
      "which is 180&times;100.0/240.\n",
      "Here is the calculation\n",
      "and the resulting image:"
     ]
    },
    {
     "cell_type": "code",
     "collapsed": false,
     "input": [
      "new_height = 180*100.0/240\n",
      "flower.size = (100, new_height)\n",
      "flower.show()"
     ],
     "language": "python",
     "metadata": {},
     "outputs": []
    },
    {
     "cell_type": "markdown",
     "metadata": {},
     "source": [
      "And to check:"
     ]
    },
    {
     "cell_type": "code",
     "collapsed": false,
     "input": [
      "print 'flower.size after thumbnailing:', flower.size"
     ],
     "language": "python",
     "metadata": {},
     "outputs": []
    },
    {
     "cell_type": "markdown",
     "metadata": {},
     "source": [
      "That's great,\n",
      "but we can do better.\n",
      "Our next picture might not be exactly 240 pixels wide and 180 high,\n",
      "so instead of using those values in the calculation,\n",
      "we should use the picture's actual width and height:"
     ]
    },
    {
     "cell_type": "code",
     "collapsed": false,
     "input": [
      "flower = novice.open('flower.png') # reload because we changed the size of the previous copy in memory\n",
      "new_height = flower.height * (100.0 / flower.width)\n",
      "flower.size = (100, new_height)\n",
      "flower.show()"
     ],
     "language": "python",
     "metadata": {},
     "outputs": []
    },
    {
     "cell_type": "markdown",
     "metadata": {},
     "source": [
      "We have now accomplished our original task for one picture,\n",
      "but what if we had to create thumbnails for a dozen?\n",
      "Or for several thousand?\n",
      "Typing in same four lines a thousand times would be very tedious,\n",
      "and we would almost certainly make a mistake.\n",
      "In fact,\n",
      "we *did* make a mistake several times while writing this lesson:\n",
      "we called the variable referring to the second copy of the image `flower`,\n",
      "then used `picture.width` in the calculation that resized it.\n",
      "To solve these problems,\n",
      "we'll need to take a look at how functions are created,\n",
      "and at how to tell a computer to do something many times over."
     ]
    },
    {
     "cell_type": "heading",
     "level": 2,
     "metadata": {},
     "source": [
      "Key Points"
     ]
    },
    {
     "cell_type": "markdown",
     "metadata": {},
     "source": [
      "- Use `import library`, `import library as nickname`, and `from library import thing` to load code from libraries.\n",
      "- Use `variable = value` to assign a value to a variable.\n",
      "    - This creates `variable` if it does not already exist.\n",
      "    - And assigns it a new value if it does.\n",
      "- Use meaningful names for variables to make programs easier for people to understand.\n",
      "- Use integers to count, and floats to measure."
     ]
    }
   ],
   "metadata": {}
  }
 ]
}